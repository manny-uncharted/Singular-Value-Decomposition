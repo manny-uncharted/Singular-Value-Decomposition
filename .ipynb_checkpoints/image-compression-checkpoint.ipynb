{
 "cells": [
  {
   "cell_type": "code",
   "execution_count": null,
   "metadata": {},
   "outputs": [],
   "source": [
    "from matplotlib.image import imread\n",
    "import matplotlib.pyplot as plt\n",
    "import numpy as np\n",
    "import os\n",
    "\n",
    "plt.rcParams['figure.figsize'] = [16.0, 8.0] # set default size of plots\n",
    "\n",
    "# Load the image\n",
    "A = imread('im.png')\n",
    "X = np.mean(A, -1) # convert to grayscale\n",
    "\n",
    "img = plt.imshow(256-X)\n",
    "img.set_cmap('gray')\n",
    "plt.axis('off')\n",
    "plt.show()"
   ]
  },
  {
   "cell_type": "code",
   "execution_count": null,
   "metadata": {},
   "outputs": [],
   "source": []
  },
  {
   "cell_type": "code",
   "execution_count": null,
   "metadata": {},
   "outputs": [],
   "source": []
  }
 ],
 "metadata": {
  "kernelspec": {
   "display_name": "Python 3.10.4 64-bit",
   "language": "python",
   "name": "python3"
  },
  "language_info": {
   "name": "python",
   "version": "3.10.4"
  },
  "orig_nbformat": 4,
  "vscode": {
   "interpreter": {
    "hash": "099c663eaefed1925fa8e51e567ea626457ea5dd212b49d94204aa42816c5129"
   }
  }
 },
 "nbformat": 4,
 "nbformat_minor": 2
}
